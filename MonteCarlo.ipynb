{
 "cells": [
  {
   "cell_type": "code",
   "execution_count": 1,
   "metadata": {},
   "outputs": [
    {
     "name": "stdout",
     "output_type": "stream",
     "text": [
      "-854\n"
     ]
    }
   ],
   "source": [
    "import random\n",
    "import math\n",
    "x= random.randrange(-1000,1000)\n",
    "print(x)"
   ]
  },
  {
   "cell_type": "code",
   "execution_count": 4,
   "metadata": {},
   "outputs": [],
   "source": [
    "def MCIp(N):\n",
    "    a = 1\n",
    "    counterIn=0\n",
    "    counterOut=0\n",
    "    Ecyc = 3.14*0.25\n",
    "    for i in range(N):\n",
    "        x=random.randrange(-500,500)\n",
    "        y=random.randrange(-500,500)\n",
    "        x=x/1000\n",
    "        y=y/1000\n",
    "        dis = math.sqrt(x**2+y**2)\n",
    "        if(dis<0.5):\n",
    "            counterIn+=1\n",
    "        counterOut+=1\n",
    "    return counterIn,counterOut"
   ]
  },
  {
   "cell_type": "code",
   "execution_count": 6,
   "metadata": {},
   "outputs": [
    {
     "name": "stdout",
     "output_type": "stream",
     "text": [
      "We have this many points: 10\n",
      "inside the circle: 8 . Outside the circle: 10\n",
      "pi:  0.8\n",
      "We have this many points: 100\n",
      "inside the circle: 82 . Outside the circle: 100\n",
      "pi:  0.82\n",
      "We have this many points: 1000\n",
      "inside the circle: 794 . Outside the circle: 1000\n",
      "pi:  0.794\n",
      "We have this many points: 4159\n",
      "inside the circle: 3256 . Outside the circle: 4159\n",
      "pi:  0.7828805001202213\n",
      "We have this many points: 10000\n",
      "inside the circle: 7850 . Outside the circle: 10000\n",
      "pi:  0.785\n",
      "We have this many points: 30000\n",
      "inside the circle: 23585 . Outside the circle: 30000\n",
      "pi:  0.7861666666666667\n",
      "We have this many points: 50000\n",
      "inside the circle: 39381 . Outside the circle: 50000\n",
      "pi:  0.78762\n",
      "We have this many points: 50000\n",
      "inside the circle: 39165 . Outside the circle: 50000\n",
      "pi:  0.7833\n"
     ]
    }
   ],
   "source": [
    "a = [10,100,1000,4159,10000,30000,50000,50000]\n",
    "for i in a:\n",
    "    print(\"We have this many points:\",i)\n",
    "    cin,cout=MCIp(i)\n",
    "    print(\"inside the circle:\", cin,\". Outside the circle:\", cout)\n",
    "    print(\"pi: \", cin/cout)"
   ]
  },
  {
   "cell_type": "code",
   "execution_count": 43,
   "metadata": {},
   "outputs": [
    {
     "name": "stdout",
     "output_type": "stream",
     "text": [
      "3.0\n"
     ]
    }
   ],
   "source": [
    "print(math.sqrt(9))"
   ]
  }
 ],
 "metadata": {
  "kernelspec": {
   "display_name": "Python 3",
   "language": "python",
   "name": "python3"
  },
  "language_info": {
   "codemirror_mode": {
    "name": "ipython",
    "version": 3
   },
   "file_extension": ".py",
   "mimetype": "text/x-python",
   "name": "python",
   "nbconvert_exporter": "python",
   "pygments_lexer": "ipython3",
   "version": "3.8.5"
  }
 },
 "nbformat": 4,
 "nbformat_minor": 4
}
